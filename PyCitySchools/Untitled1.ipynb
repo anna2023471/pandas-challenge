{
 "cells": [
  {
   "cell_type": "code",
   "execution_count": 1,
   "id": "70ad9b2b",
   "metadata": {},
   "outputs": [],
   "source": [
    "import pandas as pd\n",
    "from pathlib import Path"
   ]
  },
  {
   "cell_type": "code",
   "execution_count": 2,
   "id": "b5c2a9cd",
   "metadata": {},
   "outputs": [],
   "source": [
    "school_data_to_load = Path(\"../Resources/schools_complete.csv\")\n",
    "student_data_to_load = Path(\"../Resources/students_complete.csv\")"
   ]
  },
  {
   "cell_type": "code",
   "execution_count": 3,
   "id": "2b3d3283",
   "metadata": {},
   "outputs": [],
   "source": [
    "school_data = pd.read_csv(school_data_to_load)\n",
    "student_data = pd.read_csv(student_data_to_load)"
   ]
  },
  {
   "cell_type": "code",
   "execution_count": 4,
   "id": "e747036e",
   "metadata": {},
   "outputs": [],
   "source": [
    "school_data_complete = pd.merge(student_data, school_data, how=\"left\", on=[\"school_name\", \"school_name\"])"
   ]
  },
  {
   "cell_type": "code",
   "execution_count": 5,
   "id": "d3840d62",
   "metadata": {},
   "outputs": [],
   "source": [
    "unique_schools = school_data_complete[\"school_name\"].nunique()"
   ]
  },
  {
   "cell_type": "code",
   "execution_count": 6,
   "id": "0699d9d5",
   "metadata": {},
   "outputs": [],
   "source": [
    "total_students = school_data_complete[\"student_name\"].count()"
   ]
  },
  {
   "cell_type": "code",
   "execution_count": 7,
   "id": "4decebd9",
   "metadata": {},
   "outputs": [],
   "source": [
    "total_budget = school_data[\"budget\"].sum()"
   ]
  },
  {
   "cell_type": "code",
   "execution_count": 8,
   "id": "87eb7fbb",
   "metadata": {},
   "outputs": [],
   "source": [
    "average_math_score = school_data_complete[\"maths_score\"].mean()"
   ]
  },
  {
   "cell_type": "code",
   "execution_count": 9,
   "id": "cc36723c",
   "metadata": {},
   "outputs": [],
   "source": [
    "average_reading_score = school_data_complete[\"reading_score\"].mean()"
   ]
  },
  {
   "cell_type": "code",
   "execution_count": 10,
   "id": "f20ac300",
   "metadata": {},
   "outputs": [],
   "source": [
    "passing_math_score_cond = school_data_complete.loc[school_data_complete[\"maths_score\"] >= 50]"
   ]
  },
  {
   "cell_type": "code",
   "execution_count": 11,
   "id": "b3101ef9",
   "metadata": {},
   "outputs": [],
   "source": [
    "passing_math_score_count = passing_math_score_cond[\"maths_score\"].count()"
   ]
  },
  {
   "cell_type": "code",
   "execution_count": 12,
   "id": "cb6fec2b",
   "metadata": {},
   "outputs": [],
   "source": [
    "percent_pass_math = passing_math_score_count / total_students * 100"
   ]
  },
  {
   "cell_type": "code",
   "execution_count": 13,
   "id": "cd3632b8",
   "metadata": {},
   "outputs": [],
   "source": [
    "passing_reading_score_cond = school_data_complete.loc[school_data_complete[\"reading_score\"] >= 50]"
   ]
  },
  {
   "cell_type": "code",
   "execution_count": 14,
   "id": "020482cd",
   "metadata": {},
   "outputs": [],
   "source": [
    "passing_reading_score_count = passing_reading_score_cond[\"reading_score\"].count()"
   ]
  },
  {
   "cell_type": "code",
   "execution_count": 15,
   "id": "2b77e597",
   "metadata": {},
   "outputs": [],
   "source": [
    "percent_pass_reading = passing_reading_score_count / total_students * 100"
   ]
  },
  {
   "cell_type": "code",
   "execution_count": 16,
   "id": "067f2218",
   "metadata": {},
   "outputs": [],
   "source": [
    "passing_both_cond = school_data_complete.loc[(school_data_complete[\"maths_score\"] >= 50) & (school_data_complete[\"reading_score\"] >= 50)]"
   ]
  },
  {
   "cell_type": "code",
   "execution_count": 17,
   "id": "7c1d1c08",
   "metadata": {},
   "outputs": [],
   "source": [
    "passing_both_count = passing_both_cond[\"student_name\"].count()"
   ]
  },
  {
   "cell_type": "code",
   "execution_count": 18,
   "id": "19db7c15",
   "metadata": {},
   "outputs": [],
   "source": [
    "percent_pass_both = passing_both_count / total_students * 100"
   ]
  },
  {
   "cell_type": "code",
   "execution_count": 19,
   "id": "88154c92",
   "metadata": {},
   "outputs": [],
   "source": [
    "area_summary = pd.DataFrame({\"Total Schools\": [unique_schools], \"Total Students\": [total_students], \\\n",
    "                                    \"Total Budget\": [total_budget], \"Average Maths Score\": [average_math_score], \"Average Reading Score\": [average_reading_score], \\\n",
    "                                    \"% Passing Maths\": [percent_pass_math], \"% Passing Reading\": [percent_pass_reading], \\\n",
    "                                    \"% Overall Passing\": [percent_pass_both]})"
   ]
  },
  {
   "cell_type": "code",
   "execution_count": 20,
   "id": "241114a0",
   "metadata": {},
   "outputs": [
    {
     "data": {
      "text/html": [
       "<div>\n",
       "<style scoped>\n",
       "    .dataframe tbody tr th:only-of-type {\n",
       "        vertical-align: middle;\n",
       "    }\n",
       "\n",
       "    .dataframe tbody tr th {\n",
       "        vertical-align: top;\n",
       "    }\n",
       "\n",
       "    .dataframe thead th {\n",
       "        text-align: right;\n",
       "    }\n",
       "</style>\n",
       "<table border=\"1\" class=\"dataframe\">\n",
       "  <thead>\n",
       "    <tr style=\"text-align: right;\">\n",
       "      <th></th>\n",
       "      <th>Total Schools</th>\n",
       "      <th>Total Students</th>\n",
       "      <th>Total Budget</th>\n",
       "      <th>Average Maths Score</th>\n",
       "      <th>Average Reading Score</th>\n",
       "      <th>% Passing Maths</th>\n",
       "      <th>% Passing Reading</th>\n",
       "      <th>% Overall Passing</th>\n",
       "    </tr>\n",
       "  </thead>\n",
       "  <tbody>\n",
       "    <tr>\n",
       "      <th>0</th>\n",
       "      <td>15</td>\n",
       "      <td>39170</td>\n",
       "      <td>24649428</td>\n",
       "      <td>70.338192</td>\n",
       "      <td>69.980138</td>\n",
       "      <td>86.078632</td>\n",
       "      <td>84.426857</td>\n",
       "      <td>72.808272</td>\n",
       "    </tr>\n",
       "  </tbody>\n",
       "</table>\n",
       "</div>"
      ],
      "text/plain": [
       "   Total Schools  Total Students  Total Budget  Average Maths Score  \\\n",
       "0             15           39170      24649428            70.338192   \n",
       "\n",
       "   Average Reading Score  % Passing Maths  % Passing Reading  \\\n",
       "0              69.980138        86.078632          84.426857   \n",
       "\n",
       "   % Overall Passing  \n",
       "0          72.808272  "
      ]
     },
     "execution_count": 20,
     "metadata": {},
     "output_type": "execute_result"
    }
   ],
   "source": [
    "area_summary"
   ]
  },
  {
   "cell_type": "code",
   "execution_count": 21,
   "id": "fa8ef68f",
   "metadata": {},
   "outputs": [],
   "source": [
    "school_summary_1 = school_data.loc[:, [\"school_name\", \"type\", \"budget\"]]"
   ]
  },
  {
   "cell_type": "code",
   "execution_count": 22,
   "id": "8da7f67f",
   "metadata": {},
   "outputs": [],
   "source": [
    "by_school = school_data_complete.groupby([\"school_name\"])"
   ]
  },
  {
   "cell_type": "code",
   "execution_count": 23,
   "id": "b0ce4fa9",
   "metadata": {},
   "outputs": [],
   "source": [
    "students_by_school = by_school[\"student_name\"].count()"
   ]
  },
  {
   "cell_type": "code",
   "execution_count": 24,
   "id": "8c347f04",
   "metadata": {},
   "outputs": [],
   "source": [
    "students_by_school_df = students_by_school.reset_index(name=\"Total Students\")"
   ]
  },
  {
   "cell_type": "code",
   "execution_count": 25,
   "id": "5ba2dbaf",
   "metadata": {},
   "outputs": [],
   "source": [
    "total_maths_by_school = by_school[\"maths_score\"].sum()"
   ]
  },
  {
   "cell_type": "code",
   "execution_count": 26,
   "id": "71c166ee",
   "metadata": {},
   "outputs": [],
   "source": [
    "average_maths_by_school = total_maths_by_school / students_by_school"
   ]
  },
  {
   "cell_type": "code",
   "execution_count": 27,
   "id": "c77d27bf",
   "metadata": {},
   "outputs": [],
   "source": [
    "average_maths_by_school_df = average_maths_by_school.reset_index(name=\"Average Maths Score\")"
   ]
  },
  {
   "cell_type": "code",
   "execution_count": 28,
   "id": "89c270c7",
   "metadata": {},
   "outputs": [],
   "source": [
    "total_reading_by_school = by_school[\"reading_score\"].sum()"
   ]
  },
  {
   "cell_type": "code",
   "execution_count": 29,
   "id": "c4fd8654",
   "metadata": {},
   "outputs": [],
   "source": [
    "average_reading_by_school = total_reading_by_school / students_by_school"
   ]
  },
  {
   "cell_type": "code",
   "execution_count": 30,
   "id": "76c2c23b",
   "metadata": {},
   "outputs": [],
   "source": [
    "average_reading_by_school_df = average_reading_by_school.reset_index(name=\"Average Reading Score\")"
   ]
  },
  {
   "cell_type": "code",
   "execution_count": 31,
   "id": "1bac7d30",
   "metadata": {},
   "outputs": [],
   "source": [
    "passing_math_score_cond = school_data_complete.loc[school_data_complete[\"maths_score\"] >= 50]"
   ]
  },
  {
   "cell_type": "code",
   "execution_count": 32,
   "id": "9896a051",
   "metadata": {},
   "outputs": [],
   "source": [
    "passing_math_by_school = passing_math_score_cond.groupby([\"school_name\"])"
   ]
  },
  {
   "cell_type": "code",
   "execution_count": 33,
   "id": "5d6bfb51",
   "metadata": {},
   "outputs": [],
   "source": [
    "passing_math_by_school_count = passing_math_by_school[\"maths_score\"].count()"
   ]
  },
  {
   "cell_type": "code",
   "execution_count": 34,
   "id": "4d1f70fe",
   "metadata": {},
   "outputs": [],
   "source": [
    "percent_pass_math_by_school = passing_math_by_school_count / students_by_school * 100"
   ]
  },
  {
   "cell_type": "code",
   "execution_count": 35,
   "id": "143b2e75",
   "metadata": {},
   "outputs": [],
   "source": [
    "percent_pass_math_by_school_df = percent_pass_math_by_school.reset_index(name=\"% Passing Maths\")"
   ]
  },
  {
   "cell_type": "code",
   "execution_count": 36,
   "id": "0330f70e",
   "metadata": {},
   "outputs": [],
   "source": [
    "passing_reading_score_cond = school_data_complete.loc[school_data_complete[\"reading_score\"] >= 50]"
   ]
  },
  {
   "cell_type": "code",
   "execution_count": 37,
   "id": "f81124a1",
   "metadata": {},
   "outputs": [],
   "source": [
    "passing_reading_by_school = passing_reading_score_cond.groupby([\"school_name\"])"
   ]
  },
  {
   "cell_type": "code",
   "execution_count": 38,
   "id": "cdc6f98a",
   "metadata": {},
   "outputs": [],
   "source": [
    "passing_reading_by_school_count = passing_reading_by_school[\"reading_score\"].count()"
   ]
  },
  {
   "cell_type": "code",
   "execution_count": 39,
   "id": "31c33c42",
   "metadata": {},
   "outputs": [],
   "source": [
    "percent_pass_reading_by_school = passing_reading_by_school_count / students_by_school * 100"
   ]
  },
  {
   "cell_type": "code",
   "execution_count": 40,
   "id": "a1b0d939",
   "metadata": {},
   "outputs": [],
   "source": [
    "percent_pass_reading_by_school_df = percent_pass_reading_by_school.reset_index(name=\"% Passing Reading\")"
   ]
  },
  {
   "cell_type": "code",
   "execution_count": 41,
   "id": "dad67fd0",
   "metadata": {},
   "outputs": [],
   "source": [
    "passing_both_cond = school_data_complete.loc[(school_data_complete[\"maths_score\"] >= 50) & (school_data_complete[\"reading_score\"] >= 50)]"
   ]
  },
  {
   "cell_type": "code",
   "execution_count": 42,
   "id": "276d88d4",
   "metadata": {},
   "outputs": [],
   "source": [
    "passing_both_by_school = passing_both_cond.groupby([\"school_name\"])"
   ]
  },
  {
   "cell_type": "code",
   "execution_count": 43,
   "id": "dfe2cfa8",
   "metadata": {},
   "outputs": [],
   "source": [
    "passing_both_by_school_count = passing_both_by_school[\"reading_score\"].count()"
   ]
  },
  {
   "cell_type": "code",
   "execution_count": 44,
   "id": "b370fb10",
   "metadata": {},
   "outputs": [],
   "source": [
    "percent_pass_both_by_school = passing_both_by_school_count / students_by_school * 100"
   ]
  },
  {
   "cell_type": "code",
   "execution_count": 45,
   "id": "8cc9c399",
   "metadata": {},
   "outputs": [],
   "source": [
    "percent_pass_both_by_school_df = percent_pass_both_by_school.reset_index(name=\"% Overall Passing\")"
   ]
  },
  {
   "cell_type": "code",
   "execution_count": 46,
   "id": "8a8c6d5b",
   "metadata": {},
   "outputs": [],
   "source": [
    "per_school_summary_2 = pd.merge(school_summary_1, students_by_school_df, how=\"left\", on=[\"school_name\"])"
   ]
  },
  {
   "cell_type": "code",
   "execution_count": 47,
   "id": "38fa50b6",
   "metadata": {},
   "outputs": [],
   "source": [
    "per_school_summary_3 = pd.merge(per_school_summary_2, average_maths_by_school_df, how=\"left\", on=[\"school_name\"])"
   ]
  },
  {
   "cell_type": "code",
   "execution_count": 48,
   "id": "8b9902cb",
   "metadata": {},
   "outputs": [],
   "source": [
    "per_school_summary_4 = pd.merge(per_school_summary_3, average_reading_by_school_df, how=\"left\", on=[\"school_name\"])"
   ]
  },
  {
   "cell_type": "code",
   "execution_count": 49,
   "id": "5639f0ed",
   "metadata": {},
   "outputs": [],
   "source": [
    "per_school_summary_5 = pd.merge(per_school_summary_4, percent_pass_math_by_school_df, how=\"left\", on=[\"school_name\"])"
   ]
  },
  {
   "cell_type": "code",
   "execution_count": 50,
   "id": "0ffc8856",
   "metadata": {},
   "outputs": [],
   "source": [
    "per_school_summary_6 = pd.merge(per_school_summary_5, percent_pass_reading_by_school_df, how=\"left\", on=[\"school_name\"])"
   ]
  },
  {
   "cell_type": "code",
   "execution_count": 1117,
   "id": "6bb00a24",
   "metadata": {},
   "outputs": [],
   "source": [
    "per_school_summary = pd.merge(per_school_summary_6, percent_pass_both_by_school_df, how=\"left\", on=[\"school_name\"])"
   ]
  },
  {
   "cell_type": "code",
   "execution_count": 1118,
   "id": "3bc3b6df",
   "metadata": {},
   "outputs": [],
   "source": [
    "per_school_summary[\"Per Student Budget\"] = per_school_summary[\"budget\"] / per_school_summary[\"Total Students\"]"
   ]
  },
  {
   "cell_type": "code",
   "execution_count": 1119,
   "id": "feedabbc",
   "metadata": {},
   "outputs": [],
   "source": [
    "per_school_summary = per_school_summary.sort_values(by=\"school_name\")"
   ]
  },
  {
   "cell_type": "code",
   "execution_count": 1120,
   "id": "2b833ef1",
   "metadata": {},
   "outputs": [],
   "source": [
    "per_school_summary = per_school_summary.reset_index(drop=True)"
   ]
  },
  {
   "cell_type": "code",
   "execution_count": 1121,
   "id": "3eee5b06",
   "metadata": {},
   "outputs": [],
   "source": [
    "per_school_summary.rename(columns={\"school_name\": \"\", \"type\": \"School Type\", \"budget\": \"Total School Budget\"}, inplace=True)"
   ]
  },
  {
   "cell_type": "code",
   "execution_count": 1122,
   "id": "941119e5",
   "metadata": {},
   "outputs": [],
   "source": [
    "per_school_summary = per_school_summary[[\"\", \"School Type\", \"Total Students\", \"Total School Budget\", \"Per Student Budget\", \"Average Maths Score\", \"Average Reading Score\", \"% Passing Maths\", \"% Passing Reading\", \"% Overall Passing\"]]"
   ]
  },
  {
   "cell_type": "code",
   "execution_count": 1123,
   "id": "9ad14320",
   "metadata": {},
   "outputs": [
    {
     "data": {
      "text/html": [
       "<div>\n",
       "<style scoped>\n",
       "    .dataframe tbody tr th:only-of-type {\n",
       "        vertical-align: middle;\n",
       "    }\n",
       "\n",
       "    .dataframe tbody tr th {\n",
       "        vertical-align: top;\n",
       "    }\n",
       "\n",
       "    .dataframe thead th {\n",
       "        text-align: right;\n",
       "    }\n",
       "</style>\n",
       "<table border=\"1\" class=\"dataframe\">\n",
       "  <thead>\n",
       "    <tr style=\"text-align: right;\">\n",
       "      <th></th>\n",
       "      <th>School Type</th>\n",
       "      <th>Total Students</th>\n",
       "      <th>Total School Budget</th>\n",
       "      <th>Per Student Budget</th>\n",
       "      <th>Average Maths Score</th>\n",
       "      <th>Average Reading Score</th>\n",
       "      <th>% Passing Maths</th>\n",
       "      <th>% Passing Reading</th>\n",
       "      <th>% Overall Passing</th>\n",
       "    </tr>\n",
       "    <tr>\n",
       "      <th></th>\n",
       "      <th></th>\n",
       "      <th></th>\n",
       "      <th></th>\n",
       "      <th></th>\n",
       "      <th></th>\n",
       "      <th></th>\n",
       "      <th></th>\n",
       "      <th></th>\n",
       "      <th></th>\n",
       "    </tr>\n",
       "  </thead>\n",
       "  <tbody>\n",
       "    <tr>\n",
       "      <th>Bailey High School</th>\n",
       "      <td>Government</td>\n",
       "      <td>4976</td>\n",
       "      <td>3124928</td>\n",
       "      <td>628.0</td>\n",
       "      <td>72.352894</td>\n",
       "      <td>71.008842</td>\n",
       "      <td>91.639871</td>\n",
       "      <td>87.379421</td>\n",
       "      <td>80.084405</td>\n",
       "    </tr>\n",
       "    <tr>\n",
       "      <th>Cabrera High School</th>\n",
       "      <td>Independent</td>\n",
       "      <td>1858</td>\n",
       "      <td>1081356</td>\n",
       "      <td>582.0</td>\n",
       "      <td>71.657158</td>\n",
       "      <td>71.359526</td>\n",
       "      <td>90.850377</td>\n",
       "      <td>89.074273</td>\n",
       "      <td>80.785791</td>\n",
       "    </tr>\n",
       "    <tr>\n",
       "      <th>Figueroa High School</th>\n",
       "      <td>Government</td>\n",
       "      <td>2949</td>\n",
       "      <td>1884411</td>\n",
       "      <td>639.0</td>\n",
       "      <td>68.698542</td>\n",
       "      <td>69.077993</td>\n",
       "      <td>81.654798</td>\n",
       "      <td>82.807731</td>\n",
       "      <td>67.650051</td>\n",
       "    </tr>\n",
       "    <tr>\n",
       "      <th>Ford High School</th>\n",
       "      <td>Government</td>\n",
       "      <td>2739</td>\n",
       "      <td>1763916</td>\n",
       "      <td>644.0</td>\n",
       "      <td>69.091274</td>\n",
       "      <td>69.572472</td>\n",
       "      <td>82.438846</td>\n",
       "      <td>82.219788</td>\n",
       "      <td>67.469880</td>\n",
       "    </tr>\n",
       "    <tr>\n",
       "      <th>Griffin High School</th>\n",
       "      <td>Independent</td>\n",
       "      <td>1468</td>\n",
       "      <td>917500</td>\n",
       "      <td>625.0</td>\n",
       "      <td>71.788147</td>\n",
       "      <td>71.245232</td>\n",
       "      <td>91.212534</td>\n",
       "      <td>88.487738</td>\n",
       "      <td>81.335150</td>\n",
       "    </tr>\n",
       "    <tr>\n",
       "      <th>Hernandez High School</th>\n",
       "      <td>Government</td>\n",
       "      <td>4635</td>\n",
       "      <td>3022020</td>\n",
       "      <td>652.0</td>\n",
       "      <td>68.874865</td>\n",
       "      <td>69.186408</td>\n",
       "      <td>80.949299</td>\n",
       "      <td>81.877023</td>\n",
       "      <td>66.364617</td>\n",
       "    </tr>\n",
       "    <tr>\n",
       "      <th>Holden High School</th>\n",
       "      <td>Independent</td>\n",
       "      <td>427</td>\n",
       "      <td>248087</td>\n",
       "      <td>581.0</td>\n",
       "      <td>72.583138</td>\n",
       "      <td>71.660422</td>\n",
       "      <td>89.929742</td>\n",
       "      <td>88.524590</td>\n",
       "      <td>78.922717</td>\n",
       "    </tr>\n",
       "    <tr>\n",
       "      <th>Huang High School</th>\n",
       "      <td>Government</td>\n",
       "      <td>2917</td>\n",
       "      <td>1910635</td>\n",
       "      <td>655.0</td>\n",
       "      <td>68.935207</td>\n",
       "      <td>68.910525</td>\n",
       "      <td>81.693521</td>\n",
       "      <td>81.453548</td>\n",
       "      <td>66.712376</td>\n",
       "    </tr>\n",
       "    <tr>\n",
       "      <th>Johnson High School</th>\n",
       "      <td>Government</td>\n",
       "      <td>4761</td>\n",
       "      <td>3094650</td>\n",
       "      <td>650.0</td>\n",
       "      <td>68.843100</td>\n",
       "      <td>69.039277</td>\n",
       "      <td>82.062592</td>\n",
       "      <td>81.978576</td>\n",
       "      <td>67.191766</td>\n",
       "    </tr>\n",
       "    <tr>\n",
       "      <th>Pena High School</th>\n",
       "      <td>Independent</td>\n",
       "      <td>962</td>\n",
       "      <td>585858</td>\n",
       "      <td>609.0</td>\n",
       "      <td>72.088358</td>\n",
       "      <td>71.613306</td>\n",
       "      <td>91.683992</td>\n",
       "      <td>86.590437</td>\n",
       "      <td>79.209979</td>\n",
       "    </tr>\n",
       "    <tr>\n",
       "      <th>Rodriguez High School</th>\n",
       "      <td>Government</td>\n",
       "      <td>3999</td>\n",
       "      <td>2547363</td>\n",
       "      <td>637.0</td>\n",
       "      <td>72.047762</td>\n",
       "      <td>70.935984</td>\n",
       "      <td>90.797699</td>\n",
       "      <td>87.396849</td>\n",
       "      <td>79.419855</td>\n",
       "    </tr>\n",
       "    <tr>\n",
       "      <th>Shelton High School</th>\n",
       "      <td>Independent</td>\n",
       "      <td>1761</td>\n",
       "      <td>1056600</td>\n",
       "      <td>600.0</td>\n",
       "      <td>72.034072</td>\n",
       "      <td>70.257808</td>\n",
       "      <td>91.538898</td>\n",
       "      <td>86.712095</td>\n",
       "      <td>78.875639</td>\n",
       "    </tr>\n",
       "    <tr>\n",
       "      <th>Thomas High School</th>\n",
       "      <td>Independent</td>\n",
       "      <td>1635</td>\n",
       "      <td>1043130</td>\n",
       "      <td>638.0</td>\n",
       "      <td>69.581651</td>\n",
       "      <td>69.768807</td>\n",
       "      <td>83.853211</td>\n",
       "      <td>82.629969</td>\n",
       "      <td>69.480122</td>\n",
       "    </tr>\n",
       "    <tr>\n",
       "      <th>Wilson High School</th>\n",
       "      <td>Independent</td>\n",
       "      <td>2283</td>\n",
       "      <td>1319574</td>\n",
       "      <td>578.0</td>\n",
       "      <td>69.170828</td>\n",
       "      <td>68.876916</td>\n",
       "      <td>82.785808</td>\n",
       "      <td>81.296540</td>\n",
       "      <td>67.455103</td>\n",
       "    </tr>\n",
       "    <tr>\n",
       "      <th>Wright High School</th>\n",
       "      <td>Independent</td>\n",
       "      <td>1800</td>\n",
       "      <td>1049400</td>\n",
       "      <td>583.0</td>\n",
       "      <td>72.047222</td>\n",
       "      <td>70.969444</td>\n",
       "      <td>91.777778</td>\n",
       "      <td>86.666667</td>\n",
       "      <td>79.722222</td>\n",
       "    </tr>\n",
       "  </tbody>\n",
       "</table>\n",
       "</div>"
      ],
      "text/plain": [
       "                       School Type  Total Students  Total School Budget  \\\n",
       "                                                                          \n",
       "Bailey High School      Government            4976              3124928   \n",
       "Cabrera High School    Independent            1858              1081356   \n",
       "Figueroa High School    Government            2949              1884411   \n",
       "Ford High School        Government            2739              1763916   \n",
       "Griffin High School    Independent            1468               917500   \n",
       "Hernandez High School   Government            4635              3022020   \n",
       "Holden High School     Independent             427               248087   \n",
       "Huang High School       Government            2917              1910635   \n",
       "Johnson High School     Government            4761              3094650   \n",
       "Pena High School       Independent             962               585858   \n",
       "Rodriguez High School   Government            3999              2547363   \n",
       "Shelton High School    Independent            1761              1056600   \n",
       "Thomas High School     Independent            1635              1043130   \n",
       "Wilson High School     Independent            2283              1319574   \n",
       "Wright High School     Independent            1800              1049400   \n",
       "\n",
       "                       Per Student Budget  Average Maths Score  \\\n",
       "                                                                 \n",
       "Bailey High School                  628.0            72.352894   \n",
       "Cabrera High School                 582.0            71.657158   \n",
       "Figueroa High School                639.0            68.698542   \n",
       "Ford High School                    644.0            69.091274   \n",
       "Griffin High School                 625.0            71.788147   \n",
       "Hernandez High School               652.0            68.874865   \n",
       "Holden High School                  581.0            72.583138   \n",
       "Huang High School                   655.0            68.935207   \n",
       "Johnson High School                 650.0            68.843100   \n",
       "Pena High School                    609.0            72.088358   \n",
       "Rodriguez High School               637.0            72.047762   \n",
       "Shelton High School                 600.0            72.034072   \n",
       "Thomas High School                  638.0            69.581651   \n",
       "Wilson High School                  578.0            69.170828   \n",
       "Wright High School                  583.0            72.047222   \n",
       "\n",
       "                       Average Reading Score  % Passing Maths  \\\n",
       "                                                                \n",
       "Bailey High School                 71.008842        91.639871   \n",
       "Cabrera High School                71.359526        90.850377   \n",
       "Figueroa High School               69.077993        81.654798   \n",
       "Ford High School                   69.572472        82.438846   \n",
       "Griffin High School                71.245232        91.212534   \n",
       "Hernandez High School              69.186408        80.949299   \n",
       "Holden High School                 71.660422        89.929742   \n",
       "Huang High School                  68.910525        81.693521   \n",
       "Johnson High School                69.039277        82.062592   \n",
       "Pena High School                   71.613306        91.683992   \n",
       "Rodriguez High School              70.935984        90.797699   \n",
       "Shelton High School                70.257808        91.538898   \n",
       "Thomas High School                 69.768807        83.853211   \n",
       "Wilson High School                 68.876916        82.785808   \n",
       "Wright High School                 70.969444        91.777778   \n",
       "\n",
       "                       % Passing Reading  % Overall Passing  \n",
       "                                                             \n",
       "Bailey High School             87.379421          80.084405  \n",
       "Cabrera High School            89.074273          80.785791  \n",
       "Figueroa High School           82.807731          67.650051  \n",
       "Ford High School               82.219788          67.469880  \n",
       "Griffin High School            88.487738          81.335150  \n",
       "Hernandez High School          81.877023          66.364617  \n",
       "Holden High School             88.524590          78.922717  \n",
       "Huang High School              81.453548          66.712376  \n",
       "Johnson High School            81.978576          67.191766  \n",
       "Pena High School               86.590437          79.209979  \n",
       "Rodriguez High School          87.396849          79.419855  \n",
       "Shelton High School            86.712095          78.875639  \n",
       "Thomas High School             82.629969          69.480122  \n",
       "Wilson High School             81.296540          67.455103  \n",
       "Wright High School             86.666667          79.722222  "
      ]
     },
     "execution_count": 1123,
     "metadata": {},
     "output_type": "execute_result"
    }
   ],
   "source": [
    "per_school_summary.set_index(per_school_summary.columns[0])"
   ]
  },
  {
   "cell_type": "code",
   "execution_count": 1124,
   "id": "da972777",
   "metadata": {},
   "outputs": [
    {
     "data": {
      "text/html": [
       "<div>\n",
       "<style scoped>\n",
       "    .dataframe tbody tr th:only-of-type {\n",
       "        vertical-align: middle;\n",
       "    }\n",
       "\n",
       "    .dataframe tbody tr th {\n",
       "        vertical-align: top;\n",
       "    }\n",
       "\n",
       "    .dataframe thead th {\n",
       "        text-align: right;\n",
       "    }\n",
       "</style>\n",
       "<table border=\"1\" class=\"dataframe\">\n",
       "  <thead>\n",
       "    <tr style=\"text-align: right;\">\n",
       "      <th></th>\n",
       "      <th>School Type</th>\n",
       "      <th>Total Students</th>\n",
       "      <th>Total School Budget</th>\n",
       "      <th>Per Student Budget</th>\n",
       "      <th>Average Maths Score</th>\n",
       "      <th>Average Reading Score</th>\n",
       "      <th>% Passing Maths</th>\n",
       "      <th>% Passing Reading</th>\n",
       "      <th>% Overall Passing</th>\n",
       "    </tr>\n",
       "    <tr>\n",
       "      <th></th>\n",
       "      <th></th>\n",
       "      <th></th>\n",
       "      <th></th>\n",
       "      <th></th>\n",
       "      <th></th>\n",
       "      <th></th>\n",
       "      <th></th>\n",
       "      <th></th>\n",
       "      <th></th>\n",
       "    </tr>\n",
       "  </thead>\n",
       "  <tbody>\n",
       "    <tr>\n",
       "      <th>Griffin High School</th>\n",
       "      <td>Independent</td>\n",
       "      <td>1468</td>\n",
       "      <td>917500</td>\n",
       "      <td>625.0</td>\n",
       "      <td>71.788147</td>\n",
       "      <td>71.245232</td>\n",
       "      <td>91.212534</td>\n",
       "      <td>88.487738</td>\n",
       "      <td>81.335150</td>\n",
       "    </tr>\n",
       "    <tr>\n",
       "      <th>Cabrera High School</th>\n",
       "      <td>Independent</td>\n",
       "      <td>1858</td>\n",
       "      <td>1081356</td>\n",
       "      <td>582.0</td>\n",
       "      <td>71.657158</td>\n",
       "      <td>71.359526</td>\n",
       "      <td>90.850377</td>\n",
       "      <td>89.074273</td>\n",
       "      <td>80.785791</td>\n",
       "    </tr>\n",
       "    <tr>\n",
       "      <th>Bailey High School</th>\n",
       "      <td>Government</td>\n",
       "      <td>4976</td>\n",
       "      <td>3124928</td>\n",
       "      <td>628.0</td>\n",
       "      <td>72.352894</td>\n",
       "      <td>71.008842</td>\n",
       "      <td>91.639871</td>\n",
       "      <td>87.379421</td>\n",
       "      <td>80.084405</td>\n",
       "    </tr>\n",
       "    <tr>\n",
       "      <th>Wright High School</th>\n",
       "      <td>Independent</td>\n",
       "      <td>1800</td>\n",
       "      <td>1049400</td>\n",
       "      <td>583.0</td>\n",
       "      <td>72.047222</td>\n",
       "      <td>70.969444</td>\n",
       "      <td>91.777778</td>\n",
       "      <td>86.666667</td>\n",
       "      <td>79.722222</td>\n",
       "    </tr>\n",
       "    <tr>\n",
       "      <th>Rodriguez High School</th>\n",
       "      <td>Government</td>\n",
       "      <td>3999</td>\n",
       "      <td>2547363</td>\n",
       "      <td>637.0</td>\n",
       "      <td>72.047762</td>\n",
       "      <td>70.935984</td>\n",
       "      <td>90.797699</td>\n",
       "      <td>87.396849</td>\n",
       "      <td>79.419855</td>\n",
       "    </tr>\n",
       "  </tbody>\n",
       "</table>\n",
       "</div>"
      ],
      "text/plain": [
       "                       School Type  Total Students  Total School Budget  \\\n",
       "                                                                          \n",
       "Griffin High School    Independent            1468               917500   \n",
       "Cabrera High School    Independent            1858              1081356   \n",
       "Bailey High School      Government            4976              3124928   \n",
       "Wright High School     Independent            1800              1049400   \n",
       "Rodriguez High School   Government            3999              2547363   \n",
       "\n",
       "                       Per Student Budget  Average Maths Score  \\\n",
       "                                                                 \n",
       "Griffin High School                 625.0            71.788147   \n",
       "Cabrera High School                 582.0            71.657158   \n",
       "Bailey High School                  628.0            72.352894   \n",
       "Wright High School                  583.0            72.047222   \n",
       "Rodriguez High School               637.0            72.047762   \n",
       "\n",
       "                       Average Reading Score  % Passing Maths  \\\n",
       "                                                                \n",
       "Griffin High School                71.245232        91.212534   \n",
       "Cabrera High School                71.359526        90.850377   \n",
       "Bailey High School                 71.008842        91.639871   \n",
       "Wright High School                 70.969444        91.777778   \n",
       "Rodriguez High School              70.935984        90.797699   \n",
       "\n",
       "                       % Passing Reading  % Overall Passing  \n",
       "                                                             \n",
       "Griffin High School            88.487738          81.335150  \n",
       "Cabrera High School            89.074273          80.785791  \n",
       "Bailey High School             87.379421          80.084405  \n",
       "Wright High School             86.666667          79.722222  \n",
       "Rodriguez High School          87.396849          79.419855  "
      ]
     },
     "execution_count": 1124,
     "metadata": {},
     "output_type": "execute_result"
    }
   ],
   "source": [
    "top_performing_schools = per_school_summary.sort_values(\"% Overall Passing\", ascending=False)\n",
    "top_performing_schools.head().set_index(top_performing_schools.columns[0])"
   ]
  },
  {
   "cell_type": "code",
   "execution_count": 1125,
   "id": "e57476ba",
   "metadata": {},
   "outputs": [
    {
     "data": {
      "text/html": [
       "<div>\n",
       "<style scoped>\n",
       "    .dataframe tbody tr th:only-of-type {\n",
       "        vertical-align: middle;\n",
       "    }\n",
       "\n",
       "    .dataframe tbody tr th {\n",
       "        vertical-align: top;\n",
       "    }\n",
       "\n",
       "    .dataframe thead th {\n",
       "        text-align: right;\n",
       "    }\n",
       "</style>\n",
       "<table border=\"1\" class=\"dataframe\">\n",
       "  <thead>\n",
       "    <tr style=\"text-align: right;\">\n",
       "      <th></th>\n",
       "      <th>School Type</th>\n",
       "      <th>Total Students</th>\n",
       "      <th>Total School Budget</th>\n",
       "      <th>Per Student Budget</th>\n",
       "      <th>Average Maths Score</th>\n",
       "      <th>Average Reading Score</th>\n",
       "      <th>% Passing Maths</th>\n",
       "      <th>% Passing Reading</th>\n",
       "      <th>% Overall Passing</th>\n",
       "    </tr>\n",
       "    <tr>\n",
       "      <th></th>\n",
       "      <th></th>\n",
       "      <th></th>\n",
       "      <th></th>\n",
       "      <th></th>\n",
       "      <th></th>\n",
       "      <th></th>\n",
       "      <th></th>\n",
       "      <th></th>\n",
       "      <th></th>\n",
       "    </tr>\n",
       "  </thead>\n",
       "  <tbody>\n",
       "    <tr>\n",
       "      <th>Hernandez High School</th>\n",
       "      <td>Government</td>\n",
       "      <td>4635</td>\n",
       "      <td>3022020</td>\n",
       "      <td>652.0</td>\n",
       "      <td>68.874865</td>\n",
       "      <td>69.186408</td>\n",
       "      <td>80.949299</td>\n",
       "      <td>81.877023</td>\n",
       "      <td>66.364617</td>\n",
       "    </tr>\n",
       "    <tr>\n",
       "      <th>Huang High School</th>\n",
       "      <td>Government</td>\n",
       "      <td>2917</td>\n",
       "      <td>1910635</td>\n",
       "      <td>655.0</td>\n",
       "      <td>68.935207</td>\n",
       "      <td>68.910525</td>\n",
       "      <td>81.693521</td>\n",
       "      <td>81.453548</td>\n",
       "      <td>66.712376</td>\n",
       "    </tr>\n",
       "    <tr>\n",
       "      <th>Johnson High School</th>\n",
       "      <td>Government</td>\n",
       "      <td>4761</td>\n",
       "      <td>3094650</td>\n",
       "      <td>650.0</td>\n",
       "      <td>68.843100</td>\n",
       "      <td>69.039277</td>\n",
       "      <td>82.062592</td>\n",
       "      <td>81.978576</td>\n",
       "      <td>67.191766</td>\n",
       "    </tr>\n",
       "    <tr>\n",
       "      <th>Wilson High School</th>\n",
       "      <td>Independent</td>\n",
       "      <td>2283</td>\n",
       "      <td>1319574</td>\n",
       "      <td>578.0</td>\n",
       "      <td>69.170828</td>\n",
       "      <td>68.876916</td>\n",
       "      <td>82.785808</td>\n",
       "      <td>81.296540</td>\n",
       "      <td>67.455103</td>\n",
       "    </tr>\n",
       "    <tr>\n",
       "      <th>Ford High School</th>\n",
       "      <td>Government</td>\n",
       "      <td>2739</td>\n",
       "      <td>1763916</td>\n",
       "      <td>644.0</td>\n",
       "      <td>69.091274</td>\n",
       "      <td>69.572472</td>\n",
       "      <td>82.438846</td>\n",
       "      <td>82.219788</td>\n",
       "      <td>67.469880</td>\n",
       "    </tr>\n",
       "  </tbody>\n",
       "</table>\n",
       "</div>"
      ],
      "text/plain": [
       "                       School Type  Total Students  Total School Budget  \\\n",
       "                                                                          \n",
       "Hernandez High School   Government            4635              3022020   \n",
       "Huang High School       Government            2917              1910635   \n",
       "Johnson High School     Government            4761              3094650   \n",
       "Wilson High School     Independent            2283              1319574   \n",
       "Ford High School        Government            2739              1763916   \n",
       "\n",
       "                       Per Student Budget  Average Maths Score  \\\n",
       "                                                                 \n",
       "Hernandez High School               652.0            68.874865   \n",
       "Huang High School                   655.0            68.935207   \n",
       "Johnson High School                 650.0            68.843100   \n",
       "Wilson High School                  578.0            69.170828   \n",
       "Ford High School                    644.0            69.091274   \n",
       "\n",
       "                       Average Reading Score  % Passing Maths  \\\n",
       "                                                                \n",
       "Hernandez High School              69.186408        80.949299   \n",
       "Huang High School                  68.910525        81.693521   \n",
       "Johnson High School                69.039277        82.062592   \n",
       "Wilson High School                 68.876916        82.785808   \n",
       "Ford High School                   69.572472        82.438846   \n",
       "\n",
       "                       % Passing Reading  % Overall Passing  \n",
       "                                                             \n",
       "Hernandez High School          81.877023          66.364617  \n",
       "Huang High School              81.453548          66.712376  \n",
       "Johnson High School            81.978576          67.191766  \n",
       "Wilson High School             81.296540          67.455103  \n",
       "Ford High School               82.219788          67.469880  "
      ]
     },
     "execution_count": 1125,
     "metadata": {},
     "output_type": "execute_result"
    }
   ],
   "source": [
    "bottom_performing_schools = per_school_summary.sort_values(\"% Overall Passing\")\n",
    "bottom_performing_schools.head().set_index(bottom_performing_schools.columns[0])"
   ]
  },
  {
   "cell_type": "code",
   "execution_count": 1126,
   "id": "bab1b0bd",
   "metadata": {},
   "outputs": [],
   "source": [
    "year_9_df = student_data.loc[student_data[\"year\"] == 9, :]"
   ]
  },
  {
   "cell_type": "code",
   "execution_count": 1127,
   "id": "a810fca5",
   "metadata": {},
   "outputs": [],
   "source": [
    "year_9_maths_df_cleaned = year_9_df[[\"school_name\", \"maths_score\"]]"
   ]
  },
  {
   "cell_type": "code",
   "execution_count": 1128,
   "id": "bab63e99",
   "metadata": {},
   "outputs": [],
   "source": [
    "year_9_maths_df_cleaned = year_9_maths_df_cleaned.reset_index(drop=True)"
   ]
  },
  {
   "cell_type": "code",
   "execution_count": 1129,
   "id": "c0b23db3",
   "metadata": {},
   "outputs": [],
   "source": [
    "year_9_maths_by_school = year_9_maths_df_cleaned.groupby(\"school_name\")"
   ]
  },
  {
   "cell_type": "code",
   "execution_count": 1130,
   "id": "39a122e2",
   "metadata": {},
   "outputs": [],
   "source": [
    "year_9_maths = year_9_maths_by_school[\"maths_score\"].sum()"
   ]
  },
  {
   "cell_type": "code",
   "execution_count": 1131,
   "id": "7ccbba23",
   "metadata": {},
   "outputs": [],
   "source": [
    "year_9_students = year_9_math_by_school[\"school_name\"].count()"
   ]
  },
  {
   "cell_type": "code",
   "execution_count": 1132,
   "id": "07895e04",
   "metadata": {},
   "outputs": [],
   "source": [
    "year_9_av_maths = year_9_maths / year_9_students"
   ]
  },
  {
   "cell_type": "code",
   "execution_count": 1133,
   "id": "6dd9ce43",
   "metadata": {},
   "outputs": [],
   "source": [
    "year_9_av_maths_df = year_9_av_maths.reset_index(name=\"Year 9\")"
   ]
  },
  {
   "cell_type": "code",
   "execution_count": 1134,
   "id": "d816f3ac",
   "metadata": {},
   "outputs": [],
   "source": [
    "year_10_df = student_data.loc[student_data[\"year\"] == 10, :]"
   ]
  },
  {
   "cell_type": "code",
   "execution_count": 1135,
   "id": "3d4f35c0",
   "metadata": {},
   "outputs": [],
   "source": [
    "year_10_maths_df_cleaned = year_10_df[[\"school_name\", \"maths_score\"]]"
   ]
  },
  {
   "cell_type": "code",
   "execution_count": 1136,
   "id": "37b51554",
   "metadata": {},
   "outputs": [],
   "source": [
    "year_10_maths_df_cleaned = year_10_maths_df_cleaned.reset_index(drop=True)"
   ]
  },
  {
   "cell_type": "code",
   "execution_count": 1137,
   "id": "a11f3979",
   "metadata": {},
   "outputs": [],
   "source": [
    "year_10_maths_by_school = year_10_maths_df_cleaned.groupby(\"school_name\")"
   ]
  },
  {
   "cell_type": "code",
   "execution_count": 1138,
   "id": "615a5e95",
   "metadata": {},
   "outputs": [],
   "source": [
    "year_10_maths = year_10_maths_by_school[\"maths_score\"].sum()"
   ]
  },
  {
   "cell_type": "code",
   "execution_count": 1139,
   "id": "5a93a4f8",
   "metadata": {},
   "outputs": [],
   "source": [
    "year_10_students = year_10_maths_by_school[\"school_name\"].count()"
   ]
  },
  {
   "cell_type": "code",
   "execution_count": 1140,
   "id": "52ad620f",
   "metadata": {},
   "outputs": [],
   "source": [
    "year_10_av_maths = year_10_maths / year_10_students"
   ]
  },
  {
   "cell_type": "code",
   "execution_count": 1141,
   "id": "73458813",
   "metadata": {},
   "outputs": [],
   "source": [
    "year_10_av_maths_df = year_10_av_maths.reset_index(name=\"Year 10\")"
   ]
  },
  {
   "cell_type": "code",
   "execution_count": 1142,
   "id": "82cb6808",
   "metadata": {},
   "outputs": [],
   "source": [
    "year_11_df = student_data.loc[student_data[\"year\"] == 11, :]"
   ]
  },
  {
   "cell_type": "code",
   "execution_count": 1143,
   "id": "8ed74b8c",
   "metadata": {},
   "outputs": [],
   "source": [
    "year_11_maths_df_cleaned = year_11_df[[\"school_name\", \"maths_score\"]]"
   ]
  },
  {
   "cell_type": "code",
   "execution_count": 1144,
   "id": "d787f74e",
   "metadata": {},
   "outputs": [],
   "source": [
    "year_11_maths_df_cleaned = year_11_maths_df_cleaned.reset_index(drop=True)"
   ]
  },
  {
   "cell_type": "code",
   "execution_count": 1145,
   "id": "3ff0bbf2",
   "metadata": {},
   "outputs": [],
   "source": [
    "year_11_maths_by_school = year_11_maths_df_cleaned.groupby(\"school_name\")"
   ]
  },
  {
   "cell_type": "code",
   "execution_count": 1146,
   "id": "de28af94",
   "metadata": {},
   "outputs": [],
   "source": [
    "year_11_maths = year_11_maths_by_school[\"maths_score\"].sum()"
   ]
  },
  {
   "cell_type": "code",
   "execution_count": 1147,
   "id": "74c65dd9",
   "metadata": {},
   "outputs": [],
   "source": [
    "year_11_students = year_11_maths_by_school[\"school_name\"].count()"
   ]
  },
  {
   "cell_type": "code",
   "execution_count": 1148,
   "id": "886085f0",
   "metadata": {},
   "outputs": [],
   "source": [
    "year_11_av_maths = year_11_maths / year_11_students"
   ]
  },
  {
   "cell_type": "code",
   "execution_count": 1149,
   "id": "ba15dad8",
   "metadata": {},
   "outputs": [],
   "source": [
    "year_11_av_maths_df = year_11_av_maths.reset_index(name=\"Year 11\")"
   ]
  },
  {
   "cell_type": "code",
   "execution_count": 1150,
   "id": "739cb37d",
   "metadata": {},
   "outputs": [],
   "source": [
    "year_12_df = student_data.loc[student_data[\"year\"] == 12, :]"
   ]
  },
  {
   "cell_type": "code",
   "execution_count": 1151,
   "id": "89c91859",
   "metadata": {},
   "outputs": [],
   "source": [
    "year_12_maths_df_cleaned = year_12_df[[\"school_name\", \"maths_score\"]]"
   ]
  },
  {
   "cell_type": "code",
   "execution_count": 1152,
   "id": "2e19a6d4",
   "metadata": {},
   "outputs": [],
   "source": [
    "year_12_maths_df_cleaned = year_12_maths_df_cleaned.reset_index(drop=True)"
   ]
  },
  {
   "cell_type": "code",
   "execution_count": 1153,
   "id": "ef2adbed",
   "metadata": {},
   "outputs": [],
   "source": [
    "year_12_maths_by_school = year_12_maths_df_cleaned.groupby(\"school_name\")"
   ]
  },
  {
   "cell_type": "code",
   "execution_count": 1154,
   "id": "f512f45b",
   "metadata": {},
   "outputs": [],
   "source": [
    "year_12_maths = year_12_maths_by_school[\"maths_score\"].sum()"
   ]
  },
  {
   "cell_type": "code",
   "execution_count": 1155,
   "id": "264db950",
   "metadata": {},
   "outputs": [],
   "source": [
    "year_12_students = year_12_maths_by_school[\"school_name\"].count()"
   ]
  },
  {
   "cell_type": "code",
   "execution_count": 1156,
   "id": "388f6fc8",
   "metadata": {},
   "outputs": [],
   "source": [
    "year_12_av_maths = year_12_maths / year_12_students"
   ]
  },
  {
   "cell_type": "code",
   "execution_count": 1157,
   "id": "d74f94d1",
   "metadata": {},
   "outputs": [],
   "source": [
    "year_12_av_maths_df = year_12_av_maths.reset_index(name=\"Year 12\")"
   ]
  },
  {
   "cell_type": "code",
   "execution_count": 1158,
   "id": "ea8369eb",
   "metadata": {},
   "outputs": [],
   "source": [
    "by_year_maths_scores_df_1 = pd.merge(year_9_av_maths_df, year_10_av_maths_df, how=\"left\", on=[\"school_name\"])"
   ]
  },
  {
   "cell_type": "code",
   "execution_count": 1159,
   "id": "e1cc732c",
   "metadata": {},
   "outputs": [],
   "source": [
    "by_year_maths_scores_df_2 = pd.merge(by_year_maths_scores_df_1, year_11_av_maths_df, how=\"left\", on=[\"school_name\"])"
   ]
  },
  {
   "cell_type": "code",
   "execution_count": 1160,
   "id": "c53e8854",
   "metadata": {},
   "outputs": [],
   "source": [
    "maths_scores_by_year_1 = pd.merge(by_year_maths_scores_df_2, year_12_av_maths_df, how=\"left\", on=[\"school_name\"])"
   ]
  },
  {
   "cell_type": "code",
   "execution_count": 1161,
   "id": "fe01d0f1",
   "metadata": {},
   "outputs": [
    {
     "data": {
      "text/html": [
       "<div>\n",
       "<style scoped>\n",
       "    .dataframe tbody tr th:only-of-type {\n",
       "        vertical-align: middle;\n",
       "    }\n",
       "\n",
       "    .dataframe tbody tr th {\n",
       "        vertical-align: top;\n",
       "    }\n",
       "\n",
       "    .dataframe thead th {\n",
       "        text-align: right;\n",
       "    }\n",
       "</style>\n",
       "<table border=\"1\" class=\"dataframe\">\n",
       "  <thead>\n",
       "    <tr style=\"text-align: right;\">\n",
       "      <th></th>\n",
       "      <th>Year 9</th>\n",
       "      <th>Year 10</th>\n",
       "      <th>Year 11</th>\n",
       "      <th>Year 12</th>\n",
       "    </tr>\n",
       "    <tr>\n",
       "      <th></th>\n",
       "      <th></th>\n",
       "      <th></th>\n",
       "      <th></th>\n",
       "      <th></th>\n",
       "    </tr>\n",
       "  </thead>\n",
       "  <tbody>\n",
       "    <tr>\n",
       "      <th>Bailey High School</th>\n",
       "      <td>72.493827</td>\n",
       "      <td>71.897498</td>\n",
       "      <td>72.374900</td>\n",
       "      <td>72.675097</td>\n",
       "    </tr>\n",
       "    <tr>\n",
       "      <th>Cabrera High School</th>\n",
       "      <td>72.321970</td>\n",
       "      <td>72.437768</td>\n",
       "      <td>71.008299</td>\n",
       "      <td>70.604712</td>\n",
       "    </tr>\n",
       "    <tr>\n",
       "      <th>Figueroa High School</th>\n",
       "      <td>68.477804</td>\n",
       "      <td>68.331586</td>\n",
       "      <td>68.811001</td>\n",
       "      <td>69.325282</td>\n",
       "    </tr>\n",
       "    <tr>\n",
       "      <th>Ford High School</th>\n",
       "      <td>69.021609</td>\n",
       "      <td>69.387006</td>\n",
       "      <td>69.248862</td>\n",
       "      <td>68.617811</td>\n",
       "    </tr>\n",
       "    <tr>\n",
       "      <th>Griffin High School</th>\n",
       "      <td>72.789731</td>\n",
       "      <td>71.093596</td>\n",
       "      <td>71.692521</td>\n",
       "      <td>71.469178</td>\n",
       "    </tr>\n",
       "    <tr>\n",
       "      <th>Hernandez High School</th>\n",
       "      <td>68.586831</td>\n",
       "      <td>68.867156</td>\n",
       "      <td>69.154412</td>\n",
       "      <td>68.985075</td>\n",
       "    </tr>\n",
       "    <tr>\n",
       "      <th>Holden High School</th>\n",
       "      <td>70.543307</td>\n",
       "      <td>75.105263</td>\n",
       "      <td>71.640777</td>\n",
       "      <td>73.409639</td>\n",
       "    </tr>\n",
       "    <tr>\n",
       "      <th>Huang High School</th>\n",
       "      <td>69.081754</td>\n",
       "      <td>68.533246</td>\n",
       "      <td>69.431345</td>\n",
       "      <td>68.639316</td>\n",
       "    </tr>\n",
       "    <tr>\n",
       "      <th>Johnson High School</th>\n",
       "      <td>69.469286</td>\n",
       "      <td>67.990220</td>\n",
       "      <td>68.637730</td>\n",
       "      <td>69.287393</td>\n",
       "    </tr>\n",
       "    <tr>\n",
       "      <th>Pena High School</th>\n",
       "      <td>71.996364</td>\n",
       "      <td>72.396000</td>\n",
       "      <td>72.523438</td>\n",
       "      <td>71.187845</td>\n",
       "    </tr>\n",
       "    <tr>\n",
       "      <th>Rodriguez High School</th>\n",
       "      <td>71.940722</td>\n",
       "      <td>71.779808</td>\n",
       "      <td>72.364811</td>\n",
       "      <td>72.154626</td>\n",
       "    </tr>\n",
       "    <tr>\n",
       "      <th>Shelton High School</th>\n",
       "      <td>72.932075</td>\n",
       "      <td>72.506696</td>\n",
       "      <td>70.097087</td>\n",
       "      <td>72.331536</td>\n",
       "    </tr>\n",
       "    <tr>\n",
       "      <th>Thomas High School</th>\n",
       "      <td>69.234273</td>\n",
       "      <td>70.057007</td>\n",
       "      <td>69.657831</td>\n",
       "      <td>69.369822</td>\n",
       "    </tr>\n",
       "    <tr>\n",
       "      <th>Wilson High School</th>\n",
       "      <td>69.212361</td>\n",
       "      <td>69.455446</td>\n",
       "      <td>68.378965</td>\n",
       "      <td>69.787472</td>\n",
       "    </tr>\n",
       "    <tr>\n",
       "      <th>Wright High School</th>\n",
       "      <td>71.741176</td>\n",
       "      <td>72.179012</td>\n",
       "      <td>73.275862</td>\n",
       "      <td>70.848238</td>\n",
       "    </tr>\n",
       "  </tbody>\n",
       "</table>\n",
       "</div>"
      ],
      "text/plain": [
       "                          Year 9    Year 10    Year 11    Year 12\n",
       "                                                                 \n",
       "Bailey High School     72.493827  71.897498  72.374900  72.675097\n",
       "Cabrera High School    72.321970  72.437768  71.008299  70.604712\n",
       "Figueroa High School   68.477804  68.331586  68.811001  69.325282\n",
       "Ford High School       69.021609  69.387006  69.248862  68.617811\n",
       "Griffin High School    72.789731  71.093596  71.692521  71.469178\n",
       "Hernandez High School  68.586831  68.867156  69.154412  68.985075\n",
       "Holden High School     70.543307  75.105263  71.640777  73.409639\n",
       "Huang High School      69.081754  68.533246  69.431345  68.639316\n",
       "Johnson High School    69.469286  67.990220  68.637730  69.287393\n",
       "Pena High School       71.996364  72.396000  72.523438  71.187845\n",
       "Rodriguez High School  71.940722  71.779808  72.364811  72.154626\n",
       "Shelton High School    72.932075  72.506696  70.097087  72.331536\n",
       "Thomas High School     69.234273  70.057007  69.657831  69.369822\n",
       "Wilson High School     69.212361  69.455446  68.378965  69.787472\n",
       "Wright High School     71.741176  72.179012  73.275862  70.848238"
      ]
     },
     "execution_count": 1161,
     "metadata": {},
     "output_type": "execute_result"
    }
   ],
   "source": [
    "maths_scores_by_year_1.rename(columns={\"school_name\": \"\"}, inplace=True)\n",
    "maths_scores_by_year_1.set_index(maths_scores_by_year_1.columns[0])"
   ]
  },
  {
   "cell_type": "code",
   "execution_count": 1162,
   "id": "e44588f7",
   "metadata": {},
   "outputs": [],
   "source": [
    "year_9_reading_df_cleaned = year_9_df[[\"school_name\", \"reading_score\"]]"
   ]
  },
  {
   "cell_type": "code",
   "execution_count": 1163,
   "id": "e079c719",
   "metadata": {},
   "outputs": [],
   "source": [
    "year_9_reading_df_cleaned = year_9_reading_df_cleaned.reset_index(drop=True)"
   ]
  },
  {
   "cell_type": "code",
   "execution_count": 1164,
   "id": "5c8b5cc4",
   "metadata": {},
   "outputs": [],
   "source": [
    "year_9_reading_by_school = year_9_reading_df_cleaned.groupby(\"school_name\")"
   ]
  },
  {
   "cell_type": "code",
   "execution_count": 1165,
   "id": "c205c745",
   "metadata": {},
   "outputs": [],
   "source": [
    "year_9_reading = year_9_reading_by_school[\"reading_score\"].sum()"
   ]
  },
  {
   "cell_type": "code",
   "execution_count": 1166,
   "id": "8fd0c1ab",
   "metadata": {},
   "outputs": [],
   "source": [
    "year_9_av_reading = year_9_reading / year_9_students"
   ]
  },
  {
   "cell_type": "code",
   "execution_count": 1167,
   "id": "0dc6ac09",
   "metadata": {},
   "outputs": [],
   "source": [
    "year_9_av_reading_df = year_9_av_reading.reset_index(name=\"Year 9\")"
   ]
  },
  {
   "cell_type": "code",
   "execution_count": 1168,
   "id": "0b79f574",
   "metadata": {},
   "outputs": [],
   "source": [
    "year_10_reading_df_cleaned = year_10_df[[\"school_name\", \"reading_score\"]]"
   ]
  },
  {
   "cell_type": "code",
   "execution_count": 1169,
   "id": "dfa6dda5",
   "metadata": {},
   "outputs": [],
   "source": [
    "year_10_reading_df_cleaned = year_10_reading_df_cleaned.reset_index(drop=True)"
   ]
  },
  {
   "cell_type": "code",
   "execution_count": 1170,
   "id": "5c7598e5",
   "metadata": {},
   "outputs": [],
   "source": [
    "year_10_reading_by_school = year_10_reading_df_cleaned.groupby(\"school_name\")"
   ]
  },
  {
   "cell_type": "code",
   "execution_count": 1171,
   "id": "a0fa21a1",
   "metadata": {},
   "outputs": [],
   "source": [
    "year_10_reading = year_10_reading_by_school[\"reading_score\"].sum()"
   ]
  },
  {
   "cell_type": "code",
   "execution_count": 1172,
   "id": "64ece9a0",
   "metadata": {},
   "outputs": [],
   "source": [
    "year_10_av_reading = year_10_reading / year_10_students"
   ]
  },
  {
   "cell_type": "code",
   "execution_count": 1173,
   "id": "70748489",
   "metadata": {},
   "outputs": [],
   "source": [
    "year_10_av_reading_df = year_10_av_reading.reset_index(name=\"Year 10\")"
   ]
  },
  {
   "cell_type": "code",
   "execution_count": 1174,
   "id": "329ec110",
   "metadata": {},
   "outputs": [],
   "source": [
    "year_11_reading_df_cleaned = year_11_df[[\"school_name\", \"reading_score\"]]"
   ]
  },
  {
   "cell_type": "code",
   "execution_count": 1175,
   "id": "9990705b",
   "metadata": {},
   "outputs": [],
   "source": [
    "year_11_reading_df_cleaned = year_11_reading_df_cleaned.reset_index(drop=True)"
   ]
  },
  {
   "cell_type": "code",
   "execution_count": 1176,
   "id": "9f599db0",
   "metadata": {},
   "outputs": [],
   "source": [
    "year_11_reading_by_school = year_11_reading_df_cleaned.groupby(\"school_name\")"
   ]
  },
  {
   "cell_type": "code",
   "execution_count": 1177,
   "id": "0c02ffac",
   "metadata": {},
   "outputs": [],
   "source": [
    "year_11_reading = year_11_reading_by_school[\"reading_score\"].sum()"
   ]
  },
  {
   "cell_type": "code",
   "execution_count": 1178,
   "id": "16b0957e",
   "metadata": {},
   "outputs": [],
   "source": [
    "year_11_av_reading = year_11_reading / year_11_students"
   ]
  },
  {
   "cell_type": "code",
   "execution_count": 1179,
   "id": "fee5a4cd",
   "metadata": {},
   "outputs": [],
   "source": [
    "year_11_av_reading_df = year_11_av_reading.reset_index(name=\"Year 11\")"
   ]
  },
  {
   "cell_type": "code",
   "execution_count": 1180,
   "id": "7f5ca70c",
   "metadata": {},
   "outputs": [],
   "source": [
    "year_12_reading_df_cleaned = year_12_df[[\"school_name\", \"reading_score\"]]"
   ]
  },
  {
   "cell_type": "code",
   "execution_count": 1181,
   "id": "635c399c",
   "metadata": {},
   "outputs": [],
   "source": [
    "year_12_reading_df_cleaned = year_12_reading_df_cleaned.reset_index(drop=True)"
   ]
  },
  {
   "cell_type": "code",
   "execution_count": 1182,
   "id": "12146306",
   "metadata": {},
   "outputs": [],
   "source": [
    "year_12_reading_by_school = year_12_reading_df_cleaned.groupby(\"school_name\")"
   ]
  },
  {
   "cell_type": "code",
   "execution_count": 1183,
   "id": "1cb1ec9a",
   "metadata": {},
   "outputs": [],
   "source": [
    "year_12_reading = year_12_reading_by_school[\"reading_score\"].sum()"
   ]
  },
  {
   "cell_type": "code",
   "execution_count": 1184,
   "id": "9d330b7d",
   "metadata": {},
   "outputs": [],
   "source": [
    "year_12_av_reading = year_12_reading / year_12_students"
   ]
  },
  {
   "cell_type": "code",
   "execution_count": 1185,
   "id": "3a83f5cf",
   "metadata": {},
   "outputs": [],
   "source": [
    "year_12_av_reading_df = year_12_av_reading.reset_index(name=\"Year 12\")"
   ]
  },
  {
   "cell_type": "code",
   "execution_count": 1186,
   "id": "2d883153",
   "metadata": {},
   "outputs": [],
   "source": [
    "by_year_reading_scores_df_1 = pd.merge(year_9_av_reading_df, year_10_av_reading_df, how=\"left\", on=[\"school_name\"])"
   ]
  },
  {
   "cell_type": "code",
   "execution_count": 1187,
   "id": "a03c4857",
   "metadata": {},
   "outputs": [],
   "source": [
    "by_year_reading_scores_df_2 = pd.merge(by_year_reading_scores_df_1, year_11_av_reading_df, how=\"left\", on=[\"school_name\"])"
   ]
  },
  {
   "cell_type": "code",
   "execution_count": 1188,
   "id": "ca6aaccc",
   "metadata": {},
   "outputs": [],
   "source": [
    "reading_scores_by_year_1 = pd.merge(by_year_reading_scores_df_2, year_12_av_reading_df, how=\"left\", on=[\"school_name\"])"
   ]
  },
  {
   "cell_type": "code",
   "execution_count": 1189,
   "id": "14d0e9d1",
   "metadata": {},
   "outputs": [
    {
     "data": {
      "text/html": [
       "<div>\n",
       "<style scoped>\n",
       "    .dataframe tbody tr th:only-of-type {\n",
       "        vertical-align: middle;\n",
       "    }\n",
       "\n",
       "    .dataframe tbody tr th {\n",
       "        vertical-align: top;\n",
       "    }\n",
       "\n",
       "    .dataframe thead th {\n",
       "        text-align: right;\n",
       "    }\n",
       "</style>\n",
       "<table border=\"1\" class=\"dataframe\">\n",
       "  <thead>\n",
       "    <tr style=\"text-align: right;\">\n",
       "      <th></th>\n",
       "      <th>Year 9</th>\n",
       "      <th>Year 10</th>\n",
       "      <th>Year 11</th>\n",
       "      <th>Year 12</th>\n",
       "    </tr>\n",
       "    <tr>\n",
       "      <th></th>\n",
       "      <th></th>\n",
       "      <th></th>\n",
       "      <th></th>\n",
       "      <th></th>\n",
       "    </tr>\n",
       "  </thead>\n",
       "  <tbody>\n",
       "    <tr>\n",
       "      <th>Bailey High School</th>\n",
       "      <td>70.901920</td>\n",
       "      <td>70.848265</td>\n",
       "      <td>70.317346</td>\n",
       "      <td>72.195525</td>\n",
       "    </tr>\n",
       "    <tr>\n",
       "      <th>Cabrera High School</th>\n",
       "      <td>71.172348</td>\n",
       "      <td>71.328326</td>\n",
       "      <td>71.201245</td>\n",
       "      <td>71.856021</td>\n",
       "    </tr>\n",
       "    <tr>\n",
       "      <th>Figueroa High School</th>\n",
       "      <td>70.261682</td>\n",
       "      <td>67.677588</td>\n",
       "      <td>69.152327</td>\n",
       "      <td>69.082126</td>\n",
       "    </tr>\n",
       "    <tr>\n",
       "      <th>Ford High School</th>\n",
       "      <td>69.615846</td>\n",
       "      <td>68.988701</td>\n",
       "      <td>70.735964</td>\n",
       "      <td>68.849722</td>\n",
       "    </tr>\n",
       "    <tr>\n",
       "      <th>Griffin High School</th>\n",
       "      <td>72.026895</td>\n",
       "      <td>70.746305</td>\n",
       "      <td>72.385042</td>\n",
       "      <td>69.434932</td>\n",
       "    </tr>\n",
       "    <tr>\n",
       "      <th>Hernandez High School</th>\n",
       "      <td>68.477569</td>\n",
       "      <td>70.621842</td>\n",
       "      <td>68.418199</td>\n",
       "      <td>69.244136</td>\n",
       "    </tr>\n",
       "    <tr>\n",
       "      <th>Holden High School</th>\n",
       "      <td>71.598425</td>\n",
       "      <td>71.096491</td>\n",
       "      <td>73.310680</td>\n",
       "      <td>70.481928</td>\n",
       "    </tr>\n",
       "    <tr>\n",
       "      <th>Huang High School</th>\n",
       "      <td>68.670616</td>\n",
       "      <td>69.516297</td>\n",
       "      <td>68.740638</td>\n",
       "      <td>68.671795</td>\n",
       "    </tr>\n",
       "    <tr>\n",
       "      <th>Johnson High School</th>\n",
       "      <td>68.719286</td>\n",
       "      <td>69.295029</td>\n",
       "      <td>69.969115</td>\n",
       "      <td>67.992521</td>\n",
       "    </tr>\n",
       "    <tr>\n",
       "      <th>Pena High School</th>\n",
       "      <td>70.949091</td>\n",
       "      <td>72.324000</td>\n",
       "      <td>71.703125</td>\n",
       "      <td>71.513812</td>\n",
       "    </tr>\n",
       "    <tr>\n",
       "      <th>Rodriguez High School</th>\n",
       "      <td>70.902921</td>\n",
       "      <td>70.137500</td>\n",
       "      <td>71.424453</td>\n",
       "      <td>71.414449</td>\n",
       "    </tr>\n",
       "    <tr>\n",
       "      <th>Shelton High School</th>\n",
       "      <td>70.715094</td>\n",
       "      <td>69.879464</td>\n",
       "      <td>71.150485</td>\n",
       "      <td>69.070081</td>\n",
       "    </tr>\n",
       "    <tr>\n",
       "      <th>Thomas High School</th>\n",
       "      <td>69.672451</td>\n",
       "      <td>69.741093</td>\n",
       "      <td>70.749398</td>\n",
       "      <td>68.730769</td>\n",
       "    </tr>\n",
       "    <tr>\n",
       "      <th>Wilson High School</th>\n",
       "      <td>68.683043</td>\n",
       "      <td>68.412541</td>\n",
       "      <td>68.796327</td>\n",
       "      <td>69.888143</td>\n",
       "    </tr>\n",
       "    <tr>\n",
       "      <th>Wright High School</th>\n",
       "      <td>71.823529</td>\n",
       "      <td>71.386831</td>\n",
       "      <td>70.475862</td>\n",
       "      <td>69.821138</td>\n",
       "    </tr>\n",
       "  </tbody>\n",
       "</table>\n",
       "</div>"
      ],
      "text/plain": [
       "                          Year 9    Year 10    Year 11    Year 12\n",
       "                                                                 \n",
       "Bailey High School     70.901920  70.848265  70.317346  72.195525\n",
       "Cabrera High School    71.172348  71.328326  71.201245  71.856021\n",
       "Figueroa High School   70.261682  67.677588  69.152327  69.082126\n",
       "Ford High School       69.615846  68.988701  70.735964  68.849722\n",
       "Griffin High School    72.026895  70.746305  72.385042  69.434932\n",
       "Hernandez High School  68.477569  70.621842  68.418199  69.244136\n",
       "Holden High School     71.598425  71.096491  73.310680  70.481928\n",
       "Huang High School      68.670616  69.516297  68.740638  68.671795\n",
       "Johnson High School    68.719286  69.295029  69.969115  67.992521\n",
       "Pena High School       70.949091  72.324000  71.703125  71.513812\n",
       "Rodriguez High School  70.902921  70.137500  71.424453  71.414449\n",
       "Shelton High School    70.715094  69.879464  71.150485  69.070081\n",
       "Thomas High School     69.672451  69.741093  70.749398  68.730769\n",
       "Wilson High School     68.683043  68.412541  68.796327  69.888143\n",
       "Wright High School     71.823529  71.386831  70.475862  69.821138"
      ]
     },
     "execution_count": 1189,
     "metadata": {},
     "output_type": "execute_result"
    }
   ],
   "source": [
    "reading_scores_by_year_1.rename(columns={\"school_name\": \"\"}, inplace=True)\n",
    "reading_scores_by_year_1.set_index(reading_scores_by_year_1.columns[0])"
   ]
  },
  {
   "cell_type": "code",
   "execution_count": 1190,
   "id": "c84caf5e",
   "metadata": {},
   "outputs": [],
   "source": [
    "school_spending = per_school_summary_7[[\"Per Student Budget\", \"Average Maths Score\", \"Average Reading Score\", \"% Passing Maths\", \"% Passing Reading\", \"% Overall Passing\"]]"
   ]
  },
  {
   "cell_type": "code",
   "execution_count": 1191,
   "id": "c7123fa0",
   "metadata": {},
   "outputs": [
    {
     "name": "stdout",
     "output_type": "stream",
     "text": [
      "655.0\n",
      "578.0\n"
     ]
    }
   ],
   "source": [
    "print(school_spending[\"Per Student Budget\"].max())\n",
    "print(school_spending[\"Per Student Budget\"].min())"
   ]
  },
  {
   "cell_type": "code",
   "execution_count": 1192,
   "id": "d3474eed",
   "metadata": {},
   "outputs": [],
   "source": [
    "spending_bins = [0, 585, 630, 645, 680]\n",
    "spending_labels = [\"<$585\", \"$585-630\", \"$630-645\", \"$645-680\"]"
   ]
  },
  {
   "cell_type": "code",
   "execution_count": 1193,
   "id": "665af159",
   "metadata": {},
   "outputs": [
    {
     "data": {
      "text/plain": [
       "0    $585-630\n",
       "1       <$585\n",
       "2    $630-645\n",
       "3    $630-645\n",
       "4    $585-630\n",
       "Name: Per Student Budget, dtype: category\n",
       "Categories (4, object): ['<$585' < '$585-630' < '$630-645' < '$645-680']"
      ]
     },
     "execution_count": 1193,
     "metadata": {},
     "output_type": "execute_result"
    }
   ],
   "source": [
    "pd.cut(school_spending[\"Per Student Budget\"], spending_bins, labels=spending_labels).head()"
   ]
  },
  {
   "cell_type": "code",
   "execution_count": 1194,
   "id": "8d5ad8fd",
   "metadata": {},
   "outputs": [
    {
     "name": "stderr",
     "output_type": "stream",
     "text": [
      "C:\\Users\\AnnaKhayrullina\\AppData\\Local\\Temp\\ipykernel_20268\\511064043.py:1: SettingWithCopyWarning: \n",
      "A value is trying to be set on a copy of a slice from a DataFrame.\n",
      "Try using .loc[row_indexer,col_indexer] = value instead\n",
      "\n",
      "See the caveats in the documentation: https://pandas.pydata.org/pandas-docs/stable/user_guide/indexing.html#returning-a-view-versus-a-copy\n",
      "  school_spending_df[\"Spending Ranges (Per Student)\"] = pd.cut(school_spending[\"Per Student Budget\"], spending_bins, labels=spending_labels)\n"
     ]
    }
   ],
   "source": [
    "school_spending_df[\"Spending Ranges (Per Student)\"] = pd.cut(school_spending[\"Per Student Budget\"], spending_bins, labels=spending_labels)"
   ]
  },
  {
   "cell_type": "code",
   "execution_count": 1195,
   "id": "900ecfc9",
   "metadata": {},
   "outputs": [],
   "source": [
    "spending_summary_1 = school_spending_df.groupby(\"Spending Ranges (Per Student)\").mean()"
   ]
  },
  {
   "cell_type": "code",
   "execution_count": 1196,
   "id": "5785c74a",
   "metadata": {},
   "outputs": [
    {
     "data": {
      "text/html": [
       "<div>\n",
       "<style scoped>\n",
       "    .dataframe tbody tr th:only-of-type {\n",
       "        vertical-align: middle;\n",
       "    }\n",
       "\n",
       "    .dataframe tbody tr th {\n",
       "        vertical-align: top;\n",
       "    }\n",
       "\n",
       "    .dataframe thead th {\n",
       "        text-align: right;\n",
       "    }\n",
       "</style>\n",
       "<table border=\"1\" class=\"dataframe\">\n",
       "  <thead>\n",
       "    <tr style=\"text-align: right;\">\n",
       "      <th></th>\n",
       "      <th>Average Maths Score</th>\n",
       "      <th>Average Reading Score</th>\n",
       "      <th>% Passing Maths</th>\n",
       "      <th>% Passing Reading</th>\n",
       "      <th>% Overall Passing</th>\n",
       "    </tr>\n",
       "    <tr>\n",
       "      <th>Spending Ranges (Per Student)</th>\n",
       "      <th></th>\n",
       "      <th></th>\n",
       "      <th></th>\n",
       "      <th></th>\n",
       "      <th></th>\n",
       "    </tr>\n",
       "  </thead>\n",
       "  <tbody>\n",
       "    <tr>\n",
       "      <th>&lt;$585</th>\n",
       "      <td>71.364587</td>\n",
       "      <td>70.716577</td>\n",
       "      <td>88.835926</td>\n",
       "      <td>86.390517</td>\n",
       "      <td>76.721458</td>\n",
       "    </tr>\n",
       "    <tr>\n",
       "      <th>$585-630</th>\n",
       "      <td>72.065868</td>\n",
       "      <td>71.031297</td>\n",
       "      <td>91.518824</td>\n",
       "      <td>87.292423</td>\n",
       "      <td>79.876293</td>\n",
       "    </tr>\n",
       "    <tr>\n",
       "      <th>$630-645</th>\n",
       "      <td>69.854807</td>\n",
       "      <td>69.838814</td>\n",
       "      <td>84.686139</td>\n",
       "      <td>83.763585</td>\n",
       "      <td>71.004977</td>\n",
       "    </tr>\n",
       "    <tr>\n",
       "      <th>$645-680</th>\n",
       "      <td>68.884391</td>\n",
       "      <td>69.045403</td>\n",
       "      <td>81.568470</td>\n",
       "      <td>81.769716</td>\n",
       "      <td>66.756253</td>\n",
       "    </tr>\n",
       "  </tbody>\n",
       "</table>\n",
       "</div>"
      ],
      "text/plain": [
       "                               Average Maths Score  Average Reading Score  \\\n",
       "Spending Ranges (Per Student)                                               \n",
       "<$585                                    71.364587              70.716577   \n",
       "$585-630                                 72.065868              71.031297   \n",
       "$630-645                                 69.854807              69.838814   \n",
       "$645-680                                 68.884391              69.045403   \n",
       "\n",
       "                               % Passing Maths  % Passing Reading  \\\n",
       "Spending Ranges (Per Student)                                       \n",
       "<$585                                88.835926          86.390517   \n",
       "$585-630                             91.518824          87.292423   \n",
       "$630-645                             84.686139          83.763585   \n",
       "$645-680                             81.568470          81.769716   \n",
       "\n",
       "                               % Overall Passing  \n",
       "Spending Ranges (Per Student)                     \n",
       "<$585                                  76.721458  \n",
       "$585-630                               79.876293  \n",
       "$630-645                               71.004977  \n",
       "$645-680                               66.756253  "
      ]
     },
     "execution_count": 1196,
     "metadata": {},
     "output_type": "execute_result"
    }
   ],
   "source": [
    "spending_summary = spending_summary_1[[\"Average Maths Score\", \"Average Reading Score\", \"% Passing Maths\", \"% Passing Reading\", \"% Overall Passing\"]]\n",
    "spending_summary"
   ]
  },
  {
   "cell_type": "code",
   "execution_count": 1197,
   "id": "e669c30d",
   "metadata": {},
   "outputs": [],
   "source": [
    "school_size = per_school_summary_7[[\"Total Students\", \"Average Maths Score\", \"Average Reading Score\", \"% Passing Maths\", \"% Passing Reading\", \"% Overall Passing\"]]"
   ]
  },
  {
   "cell_type": "code",
   "execution_count": 1198,
   "id": "e8294f6a",
   "metadata": {},
   "outputs": [
    {
     "name": "stdout",
     "output_type": "stream",
     "text": [
      "4976\n",
      "427\n"
     ]
    }
   ],
   "source": [
    "print(school_size[\"Total Students\"].max())\n",
    "print(school_size[\"Total Students\"].min())"
   ]
  },
  {
   "cell_type": "code",
   "execution_count": 1199,
   "id": "99774980",
   "metadata": {},
   "outputs": [],
   "source": [
    "size_bins = [0, 1000, 2000, 5000]\n",
    "size_labels = [\"Small (<1000)\", \"Medium (1000-2000)\", \"Large (2000-5000)\"]"
   ]
  },
  {
   "cell_type": "code",
   "execution_count": 1200,
   "id": "4d10aff0",
   "metadata": {},
   "outputs": [
    {
     "data": {
      "text/plain": [
       "0     Large (2000-5000)\n",
       "1    Medium (1000-2000)\n",
       "2     Large (2000-5000)\n",
       "3     Large (2000-5000)\n",
       "4    Medium (1000-2000)\n",
       "Name: Total Students, dtype: category\n",
       "Categories (3, object): ['Small (<1000)' < 'Medium (1000-2000)' < 'Large (2000-5000)']"
      ]
     },
     "execution_count": 1200,
     "metadata": {},
     "output_type": "execute_result"
    }
   ],
   "source": [
    "pd.cut(school_size[\"Total Students\"], size_bins, labels=size_labels).head()"
   ]
  },
  {
   "cell_type": "code",
   "execution_count": 1201,
   "id": "25137255",
   "metadata": {},
   "outputs": [
    {
     "name": "stderr",
     "output_type": "stream",
     "text": [
      "C:\\Users\\AnnaKhayrullina\\AppData\\Local\\Temp\\ipykernel_20268\\3754009874.py:1: SettingWithCopyWarning: \n",
      "A value is trying to be set on a copy of a slice from a DataFrame.\n",
      "Try using .loc[row_indexer,col_indexer] = value instead\n",
      "\n",
      "See the caveats in the documentation: https://pandas.pydata.org/pandas-docs/stable/user_guide/indexing.html#returning-a-view-versus-a-copy\n",
      "  school_size[\"School Size\"] = pd.cut(school_size[\"Total Students\"], size_bins, labels=size_labels)\n"
     ]
    }
   ],
   "source": [
    "school_size[\"School Size\"] = pd.cut(school_size[\"Total Students\"], size_bins, labels=size_labels)"
   ]
  },
  {
   "cell_type": "code",
   "execution_count": 1202,
   "id": "12d0a373",
   "metadata": {},
   "outputs": [],
   "source": [
    "size_summary_1 = school_size.groupby(\"School Size\").mean()"
   ]
  },
  {
   "cell_type": "code",
   "execution_count": 1203,
   "id": "d978df30",
   "metadata": {},
   "outputs": [],
   "source": [
    "size_summary = size_summary_1[[\"Average Maths Score\", \"Average Reading Score\", \"% Passing Maths\", \"% Passing Reading\", \"% Overall Passing\"]]"
   ]
  },
  {
   "cell_type": "code",
   "execution_count": 1204,
   "id": "c115ddf4",
   "metadata": {},
   "outputs": [
    {
     "data": {
      "text/html": [
       "<div>\n",
       "<style scoped>\n",
       "    .dataframe tbody tr th:only-of-type {\n",
       "        vertical-align: middle;\n",
       "    }\n",
       "\n",
       "    .dataframe tbody tr th {\n",
       "        vertical-align: top;\n",
       "    }\n",
       "\n",
       "    .dataframe thead th {\n",
       "        text-align: right;\n",
       "    }\n",
       "</style>\n",
       "<table border=\"1\" class=\"dataframe\">\n",
       "  <thead>\n",
       "    <tr style=\"text-align: right;\">\n",
       "      <th></th>\n",
       "      <th>Average Maths Score</th>\n",
       "      <th>Average Reading Score</th>\n",
       "      <th>% Passing Maths</th>\n",
       "      <th>% Passing Reading</th>\n",
       "      <th>% Overall Passing</th>\n",
       "    </tr>\n",
       "    <tr>\n",
       "      <th>School Size</th>\n",
       "      <th></th>\n",
       "      <th></th>\n",
       "      <th></th>\n",
       "      <th></th>\n",
       "      <th></th>\n",
       "    </tr>\n",
       "  </thead>\n",
       "  <tbody>\n",
       "    <tr>\n",
       "      <th>Small (&lt;1000)</th>\n",
       "      <td>72.335748</td>\n",
       "      <td>71.636864</td>\n",
       "      <td>90.806867</td>\n",
       "      <td>87.557513</td>\n",
       "      <td>79.066348</td>\n",
       "    </tr>\n",
       "    <tr>\n",
       "      <th>Medium (1000-2000)</th>\n",
       "      <td>71.421650</td>\n",
       "      <td>70.720164</td>\n",
       "      <td>89.846560</td>\n",
       "      <td>86.714149</td>\n",
       "      <td>78.039785</td>\n",
       "    </tr>\n",
       "    <tr>\n",
       "      <th>Large (2000-5000)</th>\n",
       "      <td>69.751809</td>\n",
       "      <td>69.576052</td>\n",
       "      <td>84.252804</td>\n",
       "      <td>83.301185</td>\n",
       "      <td>70.293507</td>\n",
       "    </tr>\n",
       "  </tbody>\n",
       "</table>\n",
       "</div>"
      ],
      "text/plain": [
       "                    Average Maths Score  Average Reading Score  \\\n",
       "School Size                                                      \n",
       "Small (<1000)                 72.335748              71.636864   \n",
       "Medium (1000-2000)            71.421650              70.720164   \n",
       "Large (2000-5000)             69.751809              69.576052   \n",
       "\n",
       "                    % Passing Maths  % Passing Reading  % Overall Passing  \n",
       "School Size                                                                \n",
       "Small (<1000)             90.806867          87.557513          79.066348  \n",
       "Medium (1000-2000)        89.846560          86.714149          78.039785  \n",
       "Large (2000-5000)         84.252804          83.301185          70.293507  "
      ]
     },
     "execution_count": 1204,
     "metadata": {},
     "output_type": "execute_result"
    }
   ],
   "source": [
    "size_summary"
   ]
  },
  {
   "cell_type": "code",
   "execution_count": 1205,
   "id": "dcd36a12",
   "metadata": {},
   "outputs": [],
   "source": [
    "school_type = per_school_summary_7[[\"School Type\", \"Average Maths Score\", \"Average Reading Score\", \"% Passing Maths\", \"% Passing Reading\", \"% Overall Passing\"]]"
   ]
  },
  {
   "cell_type": "code",
   "execution_count": 1206,
   "id": "0b01502f",
   "metadata": {},
   "outputs": [],
   "source": [
    "type_summary_1 = school_type.groupby(\"School Type\").mean()"
   ]
  },
  {
   "cell_type": "code",
   "execution_count": 1207,
   "id": "f8dc2989",
   "metadata": {},
   "outputs": [],
   "source": [
    "type_summary = type_summary_1[[\"Average Maths Score\", \"Average Reading Score\", \"% Passing Maths\", \"% Passing Reading\", \"% Overall Passing\"]]"
   ]
  },
  {
   "cell_type": "code",
   "execution_count": 1208,
   "id": "5ad8cde8",
   "metadata": {},
   "outputs": [
    {
     "data": {
      "text/html": [
       "<div>\n",
       "<style scoped>\n",
       "    .dataframe tbody tr th:only-of-type {\n",
       "        vertical-align: middle;\n",
       "    }\n",
       "\n",
       "    .dataframe tbody tr th {\n",
       "        vertical-align: top;\n",
       "    }\n",
       "\n",
       "    .dataframe thead th {\n",
       "        text-align: right;\n",
       "    }\n",
       "</style>\n",
       "<table border=\"1\" class=\"dataframe\">\n",
       "  <thead>\n",
       "    <tr style=\"text-align: right;\">\n",
       "      <th></th>\n",
       "      <th>Average Maths Score</th>\n",
       "      <th>Average Reading Score</th>\n",
       "      <th>% Passing Maths</th>\n",
       "      <th>% Passing Reading</th>\n",
       "      <th>% Overall Passing</th>\n",
       "    </tr>\n",
       "    <tr>\n",
       "      <th>School Type</th>\n",
       "      <th></th>\n",
       "      <th></th>\n",
       "      <th></th>\n",
       "      <th></th>\n",
       "      <th></th>\n",
       "    </tr>\n",
       "  </thead>\n",
       "  <tbody>\n",
       "    <tr>\n",
       "      <th>Government</th>\n",
       "      <td>69.834806</td>\n",
       "      <td>69.675929</td>\n",
       "      <td>84.462375</td>\n",
       "      <td>83.587562</td>\n",
       "      <td>70.698993</td>\n",
       "    </tr>\n",
       "    <tr>\n",
       "      <th>Independent</th>\n",
       "      <td>71.368822</td>\n",
       "      <td>70.718933</td>\n",
       "      <td>89.204043</td>\n",
       "      <td>86.247789</td>\n",
       "      <td>76.973340</td>\n",
       "    </tr>\n",
       "  </tbody>\n",
       "</table>\n",
       "</div>"
      ],
      "text/plain": [
       "             Average Maths Score  Average Reading Score  % Passing Maths  \\\n",
       "School Type                                                                \n",
       "Government             69.834806              69.675929        84.462375   \n",
       "Independent            71.368822              70.718933        89.204043   \n",
       "\n",
       "             % Passing Reading  % Overall Passing  \n",
       "School Type                                        \n",
       "Government           83.587562          70.698993  \n",
       "Independent          86.247789          76.973340  "
      ]
     },
     "execution_count": 1208,
     "metadata": {},
     "output_type": "execute_result"
    }
   ],
   "source": [
    "type_summary"
   ]
  },
  {
   "cell_type": "markdown",
   "id": "29828cb5",
   "metadata": {},
   "source": [
    "School size has the biggest impact on overall student performance, with small schools ouperforming large schools by 9 percentage points.\n",
    "\n",
    "Spending appears to be negatively correlated with overall student performance, with lower-spending schools outperforming higher-spending schools. The lowest spending schools outperform the highest spending schools by almost 10 percentage points.\n",
    "\n",
    "There does not appear to be any significant difference in average performance between government and independent schools. However, the top two performing schools are independent, and the bottom two are government.\n",
    "\n",
    "Within-school performance is reasonably consistent across academic years."
   ]
  }
 ],
 "metadata": {
  "kernelspec": {
   "display_name": "Python 3 (ipykernel)",
   "language": "python",
   "name": "python3"
  },
  "language_info": {
   "codemirror_mode": {
    "name": "ipython",
    "version": 3
   },
   "file_extension": ".py",
   "mimetype": "text/x-python",
   "name": "python",
   "nbconvert_exporter": "python",
   "pygments_lexer": "ipython3",
   "version": "3.10.9"
  }
 },
 "nbformat": 4,
 "nbformat_minor": 5
}
